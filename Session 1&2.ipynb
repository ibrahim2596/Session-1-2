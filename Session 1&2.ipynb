{
 "cells": [
  {
   "cell_type": "code",
   "execution_count": 2,
   "metadata": {},
   "outputs": [
    {
     "name": "stdout",
     "output_type": "stream",
     "text": [
      "Total cost = 45000\n",
      "Total cost is more than budget : False\n",
      "we have 55000 left\n"
     ]
    }
   ],
   "source": [
    "#Session 1 Task 1 \n",
    "#Define variables for the prices of three items. \n",
    "pc = 20000\n",
    "taple = 15000\n",
    "office = 10000\n",
    "#Define a variable for the total budget.\n",
    "budget = 100000\n",
    "#Calculate the total cost of the items\n",
    "cost = (pc + taple + office)\n",
    "print(\"Total cost =\",cost)\n",
    "#Compare the total cost with the budget. \n",
    "print(\"Total cost is more than budget :\",cost >= budget)\n",
    "#Calculate the difference (either how much money is left or how much more is needed)\n",
    "net = budget - cost\n",
    "if net >= 0 : print(\"we have\",net,\"left\") \n",
    "else:print(\"we need\",-net,\"more\")"
   ]
  },
  {
   "cell_type": "code",
   "execution_count": 4,
   "metadata": {},
   "outputs": [
    {
     "name": "stdout",
     "output_type": "stream",
     "text": [
      "dict_keys(['ibrahim', 'mohamed', 'ahmed'])\n",
      "ibrahim\n",
      "mohamed\n",
      "ahmed\n",
      "01124533973\n"
     ]
    }
   ],
   "source": [
    "#Session 2 Task 1\n",
    "#Create a dictionary called contacts (The keys are names of people) & (The values are their phone numbers)\n",
    "contacts = {\"ibrahim\" : \"01124533973\",\n",
    "            \"mohamed\" : \"01124533972\",\n",
    "            \"ahmed\" : \"01124533971\"}\n",
    "#Print all the names in the contact book\n",
    "names = contacts.keys()\n",
    "print(names)\n",
    "for names in names:\n",
    "    print(names)\n",
    "#Allow the user to search for a contact by name and print the associated phone number.\n",
    "get_number = contacts.get(\"ibrahim\")\n",
    "print(get_number)"
   ]
  },
  {
   "cell_type": "code",
   "execution_count": 5,
   "metadata": {},
   "outputs": [
    {
     "name": "stdout",
     "output_type": "stream",
     "text": [
      "Ibrahim average grade = 85.0\n",
      "Ahmed average grade = 85.0\n",
      "Mohamed average grade = 80.0\n"
     ]
    }
   ],
   "source": [
    "#Task 2: Student Grades \n",
    "#Create a list of dictionaries where each dictionary represents a student with \n",
    "#A name key (string) for the student's name\n",
    "#A grades key (list of integers) for their grades in three subjects. \n",
    "students = [{'name':'Ibrahim','grades':[90,85,80]},{'name':'Ahmed','grades':[85,90,80]},{'name':'Mohamed','grades':[80,70,90]}]\n",
    "#Calculate the average grade for each student.\n",
    "for students in students:\n",
    "    average = sum(students['grades'])/len(students['grades'])\n",
    "    print(students[\"name\"],\"average grade =\",average)"
   ]
  }
 ],
 "metadata": {
  "kernelspec": {
   "display_name": "Python 3",
   "language": "python",
   "name": "python3"
  },
  "language_info": {
   "codemirror_mode": {
    "name": "ipython",
    "version": 3
   },
   "file_extension": ".py",
   "mimetype": "text/x-python",
   "name": "python",
   "nbconvert_exporter": "python",
   "pygments_lexer": "ipython3",
   "version": "3.13.1"
  }
 },
 "nbformat": 4,
 "nbformat_minor": 2
}
